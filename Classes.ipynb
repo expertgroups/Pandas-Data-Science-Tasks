{
  "nbformat": 4,
  "nbformat_minor": 0,
  "metadata": {
    "colab": {
      "name": "Classes.ipynb",
      "provenance": [],
      "collapsed_sections": [],
      "authorship_tag": "ABX9TyP5GJejRg6hNKx6qYgjQRnA",
      "include_colab_link": true
    },
    "kernelspec": {
      "name": "python3",
      "display_name": "Python 3"
    },
    "language_info": {
      "name": "python"
    }
  },
  "cells": [
    {
      "cell_type": "markdown",
      "metadata": {
        "id": "view-in-github",
        "colab_type": "text"
      },
      "source": [
        "<a href=\"https://colab.research.google.com/github/expertgroups/Pandas-Data-Science-Tasks/blob/master/Classes.ipynb\" target=\"_parent\"><img src=\"https://colab.research.google.com/assets/colab-badge.svg\" alt=\"Open In Colab\"/></a>"
      ]
    },
    {
      "cell_type": "code",
      "source": [
        "# Classes as boilerplates for objects\n",
        "class Person():\n",
        "    # The method that runs as soon as you create a class - initialise\n",
        "    def __init__(self, name, age, color):\n",
        "        # Create some attributes for our person class\n",
        "        self.name = name \n",
        "        self.age = age\n",
        "        self.color = color\n",
        "        \n",
        "    # Date of birth method\n",
        "    def year_of_birth(self):\n",
        "        return 2021-self.age\n",
        "    \n",
        "    # Projected age \n",
        "    def project_age(self, years=5):\n",
        "        return self.age+years"
      ],
      "metadata": {
        "id": "IpeuLAdbniff"
      },
      "execution_count": 1,
      "outputs": []
    },
    {
      "cell_type": "code",
      "source": [
        ""
      ],
      "metadata": {
        "id": "b76Bf-nQQZl5"
      },
      "execution_count": 1,
      "outputs": []
    },
    {
      "cell_type": "code",
      "source": [
        "new_person = Person('Elon Musk', 38, 'blue')"
      ],
      "metadata": {
        "id": "9Z3VYzfXnxcA"
      },
      "execution_count": 2,
      "outputs": []
    },
    {
      "cell_type": "code",
      "source": [
        "# Accessing a class attribute\n",
        "new_person.age"
      ],
      "metadata": {
        "colab": {
          "base_uri": "https://localhost:8080/"
        },
        "id": "VCOeXbwLnmwW",
        "outputId": "3833ad78-d6fc-47f9-dcf4-02b58144ab8e"
      },
      "execution_count": 3,
      "outputs": [
        {
          "output_type": "execute_result",
          "data": {
            "text/plain": [
              "38"
            ]
          },
          "metadata": {},
          "execution_count": 3
        }
      ]
    },
    {
      "cell_type": "code",
      "source": [
        "# Run a method\n",
        "new_person.year_of_birth()"
      ],
      "metadata": {
        "colab": {
          "base_uri": "https://localhost:8080/"
        },
        "id": "adK60gu7ntyH",
        "outputId": "16b841ed-4639-4818-c178-d9b71b981655"
      },
      "execution_count": 4,
      "outputs": [
        {
          "output_type": "execute_result",
          "data": {
            "text/plain": [
              "1983"
            ]
          },
          "metadata": {},
          "execution_count": 4
        }
      ]
    },
    {
      "cell_type": "code",
      "source": [
        "# Run a method with a keyword argument\n",
        "new_person.project_age(years=10)"
      ],
      "metadata": {
        "colab": {
          "base_uri": "https://localhost:8080/"
        },
        "id": "PWREeTEln8Cv",
        "outputId": "1ca350ba-985a-479b-f94a-fdf575c8beb4"
      },
      "execution_count": 5,
      "outputs": [
        {
          "output_type": "execute_result",
          "data": {
            "text/plain": [
              "48"
            ]
          },
          "metadata": {},
          "execution_count": 5
        }
      ]
    },
    {
      "cell_type": "markdown",
      "source": [
        "\n",
        "6. Inheritance\n",
        "\n",
        "    PARENT is the class passing down attributes and methods = PERSON\n",
        "    CHILD is the class inheriting the methods and attributes = ASTRONAUT\n",
        "\n"
      ],
      "metadata": {
        "id": "ZVheleRQoIPv"
      }
    },
    {
      "cell_type": "code",
      "source": [
        "# Create a child class\n",
        "class Astronaut(Person):\n",
        "    \n",
        "    # Define initialization function\n",
        "    def __init__(self, name, age, color, mission_length_in_months):\n",
        "        \n",
        "        # This is what gives us inheritance - SUPER METHOD\n",
        "        super().__init__(name, age, color)\n",
        "        self.mission_length_months = mission_length_in_months\n",
        "    \n",
        "    # Method for calculating age on return\n",
        "    def age_on_return(self):\n",
        "        return self.project_age(years=int(self.mission_length_months/12))"
      ],
      "metadata": {
        "id": "sONYx1Edn8Ju"
      },
      "execution_count": 6,
      "outputs": []
    },
    {
      "cell_type": "code",
      "source": [
        "new_astronaut = Astronaut('Nick', 99, 'purple', 48)"
      ],
      "metadata": {
        "id": "wDJ2F-Pjn8SV"
      },
      "execution_count": 7,
      "outputs": []
    },
    {
      "cell_type": "code",
      "source": [
        "# Access parent like attribute \n",
        "new_astronaut.color"
      ],
      "metadata": {
        "colab": {
          "base_uri": "https://localhost:8080/",
          "height": 36
        },
        "id": "uxk17ukkoSpG",
        "outputId": "736cbd4b-e7a4-4871-90ea-794c3098be3e"
      },
      "execution_count": 8,
      "outputs": [
        {
          "output_type": "execute_result",
          "data": {
            "text/plain": [
              "'purple'"
            ],
            "application/vnd.google.colaboratory.intrinsic+json": {
              "type": "string"
            }
          },
          "metadata": {},
          "execution_count": 8
        }
      ]
    },
    {
      "cell_type": "code",
      "source": [
        "'purple'\n",
        "\n"
      ],
      "metadata": {
        "colab": {
          "base_uri": "https://localhost:8080/",
          "height": 36
        },
        "id": "dhE4icdkoVz-",
        "outputId": "1feae64e-cecc-43e5-ea6b-ea2c3e88790b"
      },
      "execution_count": 9,
      "outputs": [
        {
          "output_type": "execute_result",
          "data": {
            "text/plain": [
              "'purple'"
            ],
            "application/vnd.google.colaboratory.intrinsic+json": {
              "type": "string"
            }
          },
          "metadata": {},
          "execution_count": 9
        }
      ]
    },
    {
      "cell_type": "code",
      "source": [
        "# Access the methods\n",
        "new_astronaut.year_of_birth()"
      ],
      "metadata": {
        "colab": {
          "base_uri": "https://localhost:8080/"
        },
        "id": "RZZdaunPoY8f",
        "outputId": "7c395148-dee0-4cf0-929d-af95083aa22f"
      },
      "execution_count": 10,
      "outputs": [
        {
          "output_type": "execute_result",
          "data": {
            "text/plain": [
              "1922"
            ]
          },
          "metadata": {},
          "execution_count": 10
        }
      ]
    },
    {
      "cell_type": "code",
      "source": [
        "# Run a method\n",
        "new_astronaut.age_on_return()"
      ],
      "metadata": {
        "colab": {
          "base_uri": "https://localhost:8080/"
        },
        "id": "1HEWpAsnoeZm",
        "outputId": "34c795c9-9872-40ac-caa4-f935d22b2651"
      },
      "execution_count": 11,
      "outputs": [
        {
          "output_type": "execute_result",
          "data": {
            "text/plain": [
              "103"
            ]
          },
          "metadata": {},
          "execution_count": 11
        }
      ]
    }
  ]
}